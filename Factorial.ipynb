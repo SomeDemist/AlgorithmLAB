{
 "cells": [
  {
   "cell_type": "code",
   "execution_count": 6,
   "id": "9857e218",
   "metadata": {},
   "outputs": [],
   "source": [
    "import time"
   ]
  },
  {
   "cell_type": "markdown",
   "id": "2c0ed70d",
   "metadata": {},
   "source": [
    "###  반복문을 이용하여 팩토리얼을 계산하는 함수\n",
    "###  Args : n = 팩토리얼을 구할 숫자\n",
    "###  Returns : n의 팩토리얼 값"
   ]
  },
  {
   "cell_type": "code",
   "execution_count": 7,
   "id": "2e1868a8",
   "metadata": {},
   "outputs": [],
   "source": [
    "def factorial_iterative(n):\n",
    "  result = 1\n",
    "  for i in range(1, n+1):\n",
    "    result *= i\n",
    "  return result"
   ]
  },
  {
   "cell_type": "markdown",
   "id": "5df63fca",
   "metadata": {},
   "source": [
    "### 재귀 함수를 이용하여 팩토리얼을 계산하는 함수\n",
    "###  Args : n = 팩토리얼을 구할 숫자\n",
    "###  Returns : n의 팩토리얼 값\n",
    "    "
   ]
  },
  {
   "cell_type": "code",
   "execution_count": 8,
   "id": "de30ac70",
   "metadata": {},
   "outputs": [],
   "source": [
    "def factorial_recursive(n):\n",
    "  if n == 0:\n",
    "    return 1\n",
    "  else:\n",
    "    return n * factorial_recursive(n - 1)"
   ]
  },
  {
   "cell_type": "code",
   "execution_count": 10,
   "id": "7fe7fec2",
   "metadata": {},
   "outputs": [
    {
     "name": "stdout",
     "output_type": "stream",
     "text": [
      "팩토리얼을 구할 숫자를 입력하세요: 100\n",
      "반복문으로 계산한 100의 팩토리얼은 93326215443944152681699238856266700490715968264381621468592963895217599993229915608941463976156518286253697920827223758251185210916864000000000000000000000000입니다.\n",
      "실행 시간: 0.00000000 초\n",
      "재귀 함수로 계산한 100의 팩토리얼은 93326215443944152681699238856266700490715968264381621468592963895217599993229915608941463976156518286253697920827223758251185210916864000000000000000000000000입니다.\n",
      "실행 시간: 0.00000000 초\n"
     ]
    }
   ],
   "source": [
    "if __name__ == \"__main__\":\n",
    "  num = int(input(\"팩토리얼을 구할 숫자를 입력하세요: \"))\n",
    "\n",
    "  # 반복문을 이용한 팩토리얼 계산 및 시간 측정\n",
    "  start_time = time.time()\n",
    "  result_iterative = factorial_iterative(num)\n",
    "  end_time = time.time()\n",
    "  print(f\"반복문으로 계산한 {num}의 팩토리얼은 {result_iterative}입니다.\")\n",
    "  print(f\"실행 시간: {end_time - start_time:.8f} 초\")\n",
    "\n",
    "  # 재귀 함수를 이용한 팩토리얼 계산 및 시간 측정\n",
    "  start_time = time.time()\n",
    "  result_recursive = factorial_recursive(num)\n",
    "  end_time = time.time()\n",
    "  print(f\"재귀 함수로 계산한 {num}의 팩토리얼은 {result_recursive}입니다.\")\n",
    "  print(f\"실행 시간: {end_time - start_time:.8f} 초\")"
   ]
  },
  {
   "cell_type": "code",
   "execution_count": null,
   "id": "e70a01cd",
   "metadata": {},
   "outputs": [],
   "source": []
  }
 ],
 "metadata": {
  "kernelspec": {
   "display_name": "Python 3 (ipykernel)",
   "language": "python",
   "name": "python3"
  },
  "language_info": {
   "codemirror_mode": {
    "name": "ipython",
    "version": 3
   },
   "file_extension": ".py",
   "mimetype": "text/x-python",
   "name": "python",
   "nbconvert_exporter": "python",
   "pygments_lexer": "ipython3",
   "version": "3.11.3"
  }
 },
 "nbformat": 4,
 "nbformat_minor": 5
}
