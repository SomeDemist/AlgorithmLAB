{
 "cells": [
  {
   "cell_type": "markdown",
   "id": "c31e2da7",
   "metadata": {},
   "source": [
    "### 재귀 함수를 이용하여 피보나치 수열의 n번째 항을 반환합니다."
   ]
  },
  {
   "cell_type": "code",
   "execution_count": 16,
   "id": "d2df389a",
   "metadata": {},
   "outputs": [],
   "source": [
    "def fibo_recursive(n):\n",
    "  if n <= 0:\n",
    "    return 0\n",
    "  elif n <= 2:\n",
    "    return 1\n",
    "  else:\n",
    "    return fibo_recursive(n-1) + fibo_recursive(n-2)"
   ]
  },
  {
   "cell_type": "markdown",
   "id": "f2c4c4db",
   "metadata": {},
   "source": [
    "##### 사용 예시"
   ]
  },
  {
   "cell_type": "code",
   "execution_count": 18,
   "id": "96564304",
   "metadata": {
    "scrolled": false
   },
   "outputs": [
    {
     "name": "stdout",
     "output_type": "stream",
     "text": [
      "피보나치 수열의 항 수를 입력하세요: 15\n",
      "1\n",
      "1\n",
      "2\n",
      "3\n",
      "5\n",
      "8\n",
      "13\n",
      "21\n",
      "34\n",
      "55\n",
      "89\n",
      "144\n",
      "233\n",
      "377\n",
      "610\n"
     ]
    }
   ],
   "source": [
    "num = int(input(\"피보나치 수열의 항 수를 입력하세요: \"))\n",
    "for i in range(1, num+1):\n",
    "  print(fibo_recursive(i))"
   ]
  },
  {
   "cell_type": "markdown",
   "id": "20cf5ed2",
   "metadata": {},
   "source": [
    "### 반복문을 이용하여 피보나치 수열의 n번째 항을 반환합니다."
   ]
  },
  {
   "cell_type": "code",
   "execution_count": 19,
   "id": "1fc302b2",
   "metadata": {},
   "outputs": [],
   "source": [
    "def fibo_iterative(n):\n",
    "  if n <= 0:\n",
    "    return 0\n",
    "  elif n == 1:\n",
    "    return 1\n",
    "  else:\n",
    "    a, b = 1, 1\n",
    "    for _ in range(2, n):\n",
    "      a, b = b, a+b\n",
    "    return b"
   ]
  },
  {
   "cell_type": "markdown",
   "id": "eb6514d4",
   "metadata": {},
   "source": [
    "##### 사용 예시"
   ]
  },
  {
   "cell_type": "code",
   "execution_count": 21,
   "id": "ac63e2d3",
   "metadata": {
    "scrolled": false
   },
   "outputs": [
    {
     "name": "stdout",
     "output_type": "stream",
     "text": [
      "피보나치 수열의 항 수를 입력하세요: 15\n",
      "1\n",
      "1\n",
      "2\n",
      "3\n",
      "5\n",
      "8\n",
      "13\n",
      "21\n",
      "34\n",
      "55\n",
      "89\n",
      "144\n",
      "233\n",
      "377\n",
      "610\n"
     ]
    }
   ],
   "source": [
    "num = int(input(\"피보나치 수열의 항 수를 입력하세요: \"))\n",
    "for i in range(1, num+1):\n",
    "  print(fibo_iterative(i))"
   ]
  }
 ],
 "metadata": {
  "kernelspec": {
   "display_name": "Python 3 (ipykernel)",
   "language": "python",
   "name": "python3"
  },
  "language_info": {
   "codemirror_mode": {
    "name": "ipython",
    "version": 3
   },
   "file_extension": ".py",
   "mimetype": "text/x-python",
   "name": "python",
   "nbconvert_exporter": "python",
   "pygments_lexer": "ipython3",
   "version": "3.11.7"
  }
 },
 "nbformat": 4,
 "nbformat_minor": 5
}
