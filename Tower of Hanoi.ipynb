{
 "cells": [
  {
   "cell_type": "markdown",
   "id": "3a81f128",
   "metadata": {},
   "source": [
    "### 하노이 탑 문제를 해결하는 재귀 함수\n",
    "\n",
    "##### n: 옮겨야 할 원판의 개수\n",
    "##### start: 시작 기둥\n",
    "##### end: 목표 기둥\n",
    "##### spare: 보조 기둥"
   ]
  },
  {
   "cell_type": "code",
   "execution_count": 1,
   "id": "18eac974",
   "metadata": {},
   "outputs": [],
   "source": [
    "def hanoi(n, start, end, spare):\n",
    "  if n == 1:\n",
    "    print(f\"{start} -> {end}\")  # 가장 작은 원판은 목표 기둥으로 이동\n",
    "  else:\n",
    "    hanoi(n-1, start, spare, end)  # 위의 n-1개 원판을 보조 기둥으로 이동\n",
    "    print(f\"{start} -> {end}\")  # 가장 큰 원판을 목표 기둥으로 이동\n",
    "    hanoi(n-1, spare, end, start)  # 보조 기둥의 n-1개 원판을 목표 기둥으로 이동"
   ]
  },
  {
   "cell_type": "markdown",
   "id": "5fb7dded",
   "metadata": {},
   "source": [
    "##### 사용 예시"
   ]
  },
  {
   "cell_type": "code",
   "execution_count": 3,
   "id": "939950f3",
   "metadata": {},
   "outputs": [
    {
     "name": "stdout",
     "output_type": "stream",
     "text": [
      "원판의 개수를 입력하세요: 5\n",
      "1 -> 3\n",
      "1 -> 2\n",
      "3 -> 2\n",
      "1 -> 3\n",
      "2 -> 1\n",
      "2 -> 3\n",
      "1 -> 3\n",
      "1 -> 2\n",
      "3 -> 2\n",
      "3 -> 1\n",
      "2 -> 1\n",
      "3 -> 2\n",
      "1 -> 3\n",
      "1 -> 2\n",
      "3 -> 2\n",
      "1 -> 3\n",
      "2 -> 1\n",
      "2 -> 3\n",
      "1 -> 3\n",
      "2 -> 1\n",
      "3 -> 2\n",
      "3 -> 1\n",
      "2 -> 1\n",
      "2 -> 3\n",
      "1 -> 3\n",
      "1 -> 2\n",
      "3 -> 2\n",
      "1 -> 3\n",
      "2 -> 1\n",
      "2 -> 3\n",
      "1 -> 3\n"
     ]
    }
   ],
   "source": [
    "n = int(input(\"원판의 개수를 입력하세요: \"))\n",
    "hanoi(n, 1, 3, 2)  # 1번 기둥에서 3번 기둥으로 n개의 원판 이동"
   ]
  },
  {
   "cell_type": "code",
   "execution_count": null,
   "id": "f87800d0",
   "metadata": {},
   "outputs": [],
   "source": []
  }
 ],
 "metadata": {
  "kernelspec": {
   "display_name": "Python 3 (ipykernel)",
   "language": "python",
   "name": "python3"
  },
  "language_info": {
   "codemirror_mode": {
    "name": "ipython",
    "version": 3
   },
   "file_extension": ".py",
   "mimetype": "text/x-python",
   "name": "python",
   "nbconvert_exporter": "python",
   "pygments_lexer": "ipython3",
   "version": "3.11.7"
  }
 },
 "nbformat": 4,
 "nbformat_minor": 5
}
