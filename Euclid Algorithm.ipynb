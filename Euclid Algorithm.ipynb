{
 "cells": [
  {
   "cell_type": "markdown",
   "id": "e19b223b",
   "metadata": {},
   "source": [
    "##   유클리드 호제법을 이용하여 두 수의 최대공약수를 구하는 함수\n",
    "\n",
    "##  Args:\n",
    "###    a: 첫 번째 자연수\n",
    "###    b: 두 번째 자연수\n",
    "\n",
    "##  Returns:\n",
    "###    a와 b의 최대공약수"
   ]
  },
  {
   "cell_type": "code",
   "execution_count": 11,
   "id": "f2bd96f5",
   "metadata": {},
   "outputs": [],
   "source": [
    "def Euclid(a, b):\n",
    "  while b != 0:\n",
    "    a, b = b, a % b\n",
    "  return a"
   ]
  },
  {
   "cell_type": "markdown",
   "id": "099bbeef",
   "metadata": {},
   "source": [
    "### 사용자에게 두 수 입력받기"
   ]
  },
  {
   "cell_type": "code",
   "execution_count": 12,
   "id": "ccdba1a0",
   "metadata": {},
   "outputs": [
    {
     "name": "stdout",
     "output_type": "stream",
     "text": [
      "첫 번째 수를 입력하세요: 1679\n",
      "두 번째 수를 입력하세요: 874\n",
      "세 번째 수를 입력하세요: 3762\n",
      "네 번째 수를 입력하세요: 4047\n",
      "다섯 번째 수를 입력하세요: 6080\n",
      "여섯 번째 수를 입력하세요: 3876\n"
     ]
    }
   ],
   "source": [
    "num1 = int(input(\"첫 번째 수를 입력하세요: \"))\n",
    "num2 = int(input(\"두 번째 수를 입력하세요: \"))\n",
    "num3 = int(input(\"세 번째 수를 입력하세요: \"))\n",
    "num4 = int(input(\"네 번째 수를 입력하세요: \"))\n",
    "num5 = int(input(\"다섯 번째 수를 입력하세요: \"))\n",
    "num6 = int(input(\"여섯 번째 수를 입력하세요: \"))"
   ]
  },
  {
   "cell_type": "markdown",
   "id": "d6654ae5",
   "metadata": {},
   "source": [
    "### 최대공약수 구하기 및 결과 출력"
   ]
  },
  {
   "cell_type": "code",
   "execution_count": 13,
   "id": "aea7b3a1",
   "metadata": {},
   "outputs": [
    {
     "name": "stdout",
     "output_type": "stream",
     "text": [
      "두 수의 최대공약수는 23 입니다.\n",
      "두 수의 최대공약수는 57 입니다.\n",
      "두 수의 최대공약수는 76 입니다.\n"
     ]
    }
   ],
   "source": [
    "# 최대공약수 구하기\n",
    "result1 = Euclid(num1, num2)\n",
    "result2 = Euclid(num3, num4)\n",
    "result3 = Euclid(num5, num6)\n",
    "\n",
    "# 결과 출력\n",
    "print(\"두 수의 최대공약수는\", result1, \"입니다.\")\n",
    "print(\"두 수의 최대공약수는\", result2, \"입니다.\")\n",
    "print(\"두 수의 최대공약수는\", result3, \"입니다.\")"
   ]
  },
  {
   "cell_type": "code",
   "execution_count": null,
   "id": "c5de7afa",
   "metadata": {},
   "outputs": [],
   "source": []
  }
 ],
 "metadata": {
  "kernelspec": {
   "display_name": "Python 3 (ipykernel)",
   "language": "python",
   "name": "python3"
  },
  "language_info": {
   "codemirror_mode": {
    "name": "ipython",
    "version": 3
   },
   "file_extension": ".py",
   "mimetype": "text/x-python",
   "name": "python",
   "nbconvert_exporter": "python",
   "pygments_lexer": "ipython3",
   "version": "3.11.3"
  }
 },
 "nbformat": 4,
 "nbformat_minor": 5
}
